{
 "cells": [
  {
   "cell_type": "markdown",
   "metadata": {},
   "source": [
    "### Step 1: Load packages"
   ]
  },
  {
   "cell_type": "code",
   "execution_count": 1,
   "metadata": {},
   "outputs": [
    {
     "name": "stderr",
     "output_type": "stream",
     "text": [
      "g:\\My Drive\\APAC\\Autopricing\\Switchback Testing\\switchback_test_dag\\venv_sb\\lib\\site-packages\\requests\\__init__.py:109: RequestsDependencyWarning: urllib3 (1.26.11) or chardet (5.0.0)/charset_normalizer (2.0.12) doesn't match a supported version!\n",
      "  warnings.warn(\n"
     ]
    }
   ],
   "source": [
    "import pandas as pd\n",
    "import numpy as np\n",
    "import seaborn as sns\n",
    "import scipy.stats as stats\n",
    "from statsmodels.stats.power import TTestIndPower\n",
    "import matplotlib.pyplot as plt\n",
    "%matplotlib inline\n",
    "from google.cloud import bigquery\n",
    "from google.cloud import bigquery_storage\n",
    "import datetime as dt\n",
    "from datetime import date, timedelta\n",
    "import re\n",
    "from math import ceil\n",
    "import pingouin as pg\n",
    "import warnings\n",
    "warnings.filterwarnings(action = 'ignore') # Suppresses pandas warnings\n",
    "from IPython.display import display\n",
    "from tqdm.notebook import tqdm_notebook # Displays progress bars when querying data from BQ\n",
    "from run_sql_queries import run_query_func"
   ]
  },
  {
   "cell_type": "markdown",
   "metadata": {},
   "source": [
    "### Step 2: Define some input parameters to query the relevant test data"
   ]
  },
  {
   "cell_type": "code",
   "execution_count": 2,
   "metadata": {},
   "outputs": [],
   "source": [
    "# General inputs\n",
    "query_path = 'G:\\My Drive\\APAC\\Autopricing\\Switchback Testing\\switchback_test_automation\\sql_queries\\data_extraction_queries_automated_script.sql' # This is the path to the BQ script that pulls test data\n",
    "df_raw_data_tbl_name = 'ab_test_individual_orders_cleaned_switchback_tests' # This is the table that contains the cleaned data of switchback tests\n",
    "alpha_lvl = 0.05 # Set the alpha level below which p-values are statistically significant\n",
    "p_val_tbl_id = 'dh-logistics-product-ops.pricing.p_vals_switchback_tests' # The table containing the p-values of metrics. This table will be uploaded to BQ at the end of the script\n",
    "# Define the list of KPIs\n",
    "col_list = [\n",
    "    'actual_df_paid_by_customer', 'gfv_local', 'gmv_local', 'commission_local', 'joker_vendor_fee_local', # Customer KPIs (1)\n",
    "    'sof_local', 'service_fee_local', 'revenue_local', 'delivery_costs_local', 'gross_profit_local', # Customer KPIs (2)\n",
    "    'dps_mean_delay', 'delivery_distance_m', 'actual_DT' # Logistics KPIs\n",
    "]\n",
    "\n",
    "params = [\n",
    "    {'exp_name': 'TH_20220721_R_F0_O_Switchback_AA_Test_Trang', 'exp_start': dt.date(2022, 7, 21), 'exp_end': dt.date(2022, 8, 17)},\n",
    "    {'exp_name': 'PH_20220721_R_F0_O_SB_AA_Test_Calamba_No_Condition', 'exp_start': dt.date(2022, 7, 22), 'exp_end': dt.date(2022, 8, 18)},\n",
    "]"
   ]
  },
  {
   "cell_type": "markdown",
   "metadata": {},
   "source": [
    "### Step 3.1: Retrieve the switchback test configurations"
   ]
  },
  {
   "cell_type": "code",
   "execution_count": 3,
   "metadata": {},
   "outputs": [
    {
     "data": {
      "application/vnd.jupyter.widget-view+json": {
       "model_id": "eb63eec156434eac862a44daca70a192",
       "version_major": 2,
       "version_minor": 0
      },
      "text/plain": [
       "Downloading:   0%|          | 0/2 [00:00<?, ?rows/s]"
      ]
     },
     "metadata": {},
     "output_type": "display_data"
    }
   ],
   "source": [
    "client = bigquery.Client(project = 'logistics-data-staging-flat') # Instantiate a BQ client and define the project\n",
    "bq_storage_client = bigquery_storage.BigQueryReadClient() # Instantiate a BQ storage client\n",
    "\n",
    "# The switchback_test_configs_bq table gets updated every hour via a scheduled query\n",
    "sb_test_configs = client.query(\"\"\"SELECT * FROM `dh-logistics-product-ops.pricing.switchback_test_configs_bq`\"\"\")\\\n",
    "    .result()\\\n",
    "    .to_dataframe(bqstorage_client = bq_storage_client, progress_bar_type = 'tqdm_notebook')"
   ]
  },
  {
   "cell_type": "markdown",
   "metadata": {},
   "source": [
    "### Step 3.2: Extract the scheme IDs from between the curly brackets"
   ]
  },
  {
   "cell_type": "code",
   "execution_count": 4,
   "metadata": {},
   "outputs": [],
   "source": [
    "# Apply the extraction function on the \"scheme_id_on\" and \"scheme_id_off\" columns\n",
    "sb_test_configs['scheme_id_on'] = sb_test_configs['scheme_id_on'].apply(lambda x: re.findall('\\{(.*?)\\}', x)[0])\n",
    "sb_test_configs['scheme_id_off'] = sb_test_configs['scheme_id_off'].apply(lambda x: re.findall('\\{(.*?)\\}', x)[0])\n"
   ]
  },
  {
   "cell_type": "markdown",
   "metadata": {},
   "source": [
    "### Step 3.3: Create a list of dicts storing the config info of the switchback tests"
   ]
  },
  {
   "cell_type": "code",
   "execution_count": 5,
   "metadata": {},
   "outputs": [],
   "source": [
    "# Declare an empty dict that will be contain the details of a particular switchback test in each for loop iteration\n",
    "# The keys of the dict are the column names of sb_test_configs\n",
    "test_config_dict = {}\n",
    "keys = list(sb_test_configs.columns)\n",
    "\n",
    "# Declare an empty list that will contain all the dicts storing the test config information\n",
    "test_config_lod = []\n",
    "\n",
    "# Populate the list of dicts (lod) with the test configuration info\n",
    "for i in range(0, len(sb_test_configs.index)): # Enumerate over the number of tests\n",
    "    for key in keys: # Populate an intermediary dict with the config info of the test belonging to the current iteration\n",
    "        test_config_dict[key] = sb_test_configs[key][i]\n",
    "    test_config_lod.append(test_config_dict) # Append the intermediary dict to the list of dicts\n",
    "    test_config_dict = {} # Empty the dict so that it can be populated again"
   ]
  },
  {
   "cell_type": "markdown",
   "metadata": {},
   "source": [
    "### Step 3.4: Amend the structure of the list of dicts so that \"zone\" and \"scheme\" columns contain lists instead of strings"
   ]
  },
  {
   "cell_type": "code",
   "execution_count": 6,
   "metadata": {},
   "outputs": [],
   "source": [
    "for test in range(0, len(test_config_lod)): # Iterate over the test dicts\n",
    "    for key in ['zone_name_vendor_excl', 'zone_name_customer_excl', 'scheme_id_on', 'scheme_id_off']: # Iterate over these keys specifically to change their contents to a list\n",
    "        if test_config_lod[test][key] == None: # If the value of the key is None, change it to an empty list\n",
    "            test_config_lod[test][key] = []\n",
    "        else: \n",
    "            test_config_lod[test][key] = test_config_lod[test][key].split(', ') # Split the components of the string into list elements\n",
    "        \n",
    "        if 'scheme_id' in key: # If the key being accessed contains the word \"scheme_id\", change the components of the list to integers using list comprehension\n",
    "            test_config_lod[test][key] = [int(sch) for sch in test_config_lod[test][key]]\n",
    "        else:\n",
    "            pass"
   ]
  },
  {
   "cell_type": "markdown",
   "metadata": {},
   "source": [
    "## <center>END OF INPUT SECTION. NO NEED TO ADJUST ANY CODE FROM HERE ONWARDS</center> ##"
   ]
  },
  {
   "cell_type": "markdown",
   "metadata": {},
   "source": [
    "### Step 4: Run the queries that pull the data of Switchback tests"
   ]
  },
  {
   "cell_type": "code",
   "execution_count": 5,
   "metadata": {},
   "outputs": [
    {
     "name": "stderr",
     "output_type": "stream",
     "text": [
      "g:\\My Drive\\APAC\\Autopricing\\Switchback Testing\\Switchback_AA_Tests\\venv_switchback_aa_tests\\lib\\site-packages\\google\\auth\\_default.py:81: UserWarning: Your application has authenticated using end user credentials from Google Cloud SDK without a quota project. You might receive a \"quota exceeded\" or \"API not enabled\" error. We recommend you rerun `gcloud auth application-default login` and make sure a quota project is added. Or you can use service accounts instead. For more information about service accounts, see https://cloud.google.com/docs/authentication/\n",
      "  warnings.warn(_CLOUD_SDK_CREDENTIALS_WARNING)\n"
     ]
    },
    {
     "name": "stdout",
     "output_type": "stream",
     "text": [
      "The SQL script was executed successfully at 2022-08-25 14:58:15.277884 \n",
      "\n"
     ]
    }
   ],
   "source": [
    "run_query_func(query_path)"
   ]
  },
  {
   "cell_type": "markdown",
   "metadata": {},
   "source": [
    "### Step 5.1: Get the curated data from the resulting table"
   ]
  },
  {
   "cell_type": "code",
   "execution_count": 7,
   "metadata": {},
   "outputs": [
    {
     "data": {
      "application/vnd.jupyter.widget-view+json": {
       "model_id": "b0991668a8184420931f5d84758f82f2",
       "version_major": 2,
       "version_minor": 0
      },
      "text/plain": [
       "Downloading:   0%|          | 0/296226 [00:00<?, ?rows/s]"
      ]
     },
     "metadata": {},
     "output_type": "display_data"
    }
   ],
   "source": [
    "df_raw_data = client.query(\"\"\"SELECT * FROM `dh-logistics-product-ops.pricing.{}`\"\"\"\\\n",
    "    .format(df_raw_data_tbl_name))\\\n",
    "    .result()\\\n",
    "    .to_dataframe(bqstorage_client = bq_storage_client, progress_bar_type = 'tqdm_notebook')"
   ]
  },
  {
   "cell_type": "markdown",
   "metadata": {},
   "source": [
    "### Step 5.2: Change the data types of columns in the dataset"
   ]
  },
  {
   "cell_type": "code",
   "execution_count": 8,
   "metadata": {},
   "outputs": [],
   "source": [
    "# Define the start of the data frame where the data types of columns need to be changed \n",
    "col_start = np.where(df_raw_data.columns == 'exchange_rate')[0][0]\n",
    "\n",
    "# Change data types --> df[df.cols = specific cols].apply(pd.to_numeric)\n",
    "df_raw_data[df_raw_data.columns[col_start:]] = df_raw_data[df_raw_data.columns[col_start:]].apply(pd.to_numeric, errors = 'ignore')"
   ]
  },
  {
   "cell_type": "markdown",
   "metadata": {},
   "source": [
    "### Step 6: Define a function that changes the font color based on the p-value"
   ]
  },
  {
   "cell_type": "code",
   "execution_count": 9,
   "metadata": {},
   "outputs": [],
   "source": [
    "# Define a function that changes the font color based on the p-value\n",
    "def color_sig_green(val):\n",
    "    \"\"\"\n",
    "    Takes a scalar and returns a string with the css property 'color: green' for statistically significant values, red otherwise\n",
    "    \"\"\"\n",
    "    if pd.isna(val) == False:\n",
    "        if val <= alpha_lvl:\n",
    "            color = 'lime'\n",
    "        else:\n",
    "            color = 'red'\n",
    "    else:\n",
    "        color = 'white'\n",
    "    return 'color: %s' % color"
   ]
  },
  {
   "cell_type": "markdown",
   "metadata": {},
   "source": [
    "### Step 8:  Analyze if using smaller time intervals produces insignificant deltas between the variation and control"
   ]
  },
  {
   "cell_type": "markdown",
   "metadata": {},
   "source": [
    "#### Step 8.1: Create a function that extracts the clean data of one test"
   ]
  },
  {
   "cell_type": "code",
   "execution_count": 10,
   "metadata": {},
   "outputs": [],
   "source": [
    "# Create a function that extracts the clean data of one test\n",
    "def df_clean_func(df, test_name):\n",
    "    \"\"\"\n",
    "    A function that cleans the data by filtering for the relevant orders based on the test configurations in this G-sheet\n",
    "    https://docs.google.com/spreadsheets/d/1JeHPeEFUhDaatvCJqqWBgLxRbe_7kLQkObj-lGEX5X0/edit#gid=0\n",
    "    \"\"\"\n",
    "    pos = [iter['test_name'] for iter in test_config_lod].index(test_name) # Get the index of the test's data in test_config_lod\n",
    "    \n",
    "    df_temp = df[\n",
    "        (df['target_group'] != 'Non_TG') &\n",
    "        (df['test_name'] == test_config_lod[pos]['test_name']) &\n",
    "        (~ df['zone_name_vendor'].isin(test_config_lod[pos]['zone_name_vendor_excl'])) &\n",
    "        (~ df['zone_name_customer'].isin(test_config_lod[pos]['zone_name_customer_excl'])) &\n",
    "        ((df['scheme_id'].isin(test_config_lod[pos]['scheme_id_on'])) | (df['scheme_id'].isin(test_config_lod[pos]['scheme_id_off']))) &\n",
    "        (df['order_placed_at_local'].dt.date.between(test_config_lod[pos]['test_start'], test_config_lod[pos]['test_end']))\n",
    "    ] # Filter out Non_TG orders because they will contain irrelevant price schemes\n",
    "\n",
    "    # We will add a supplementary column to \"df_temp\" in the for loop below, so we need to create a function with the conditions\n",
    "    on_off_conditions = [\n",
    "        (df_temp['scheme_id'].isin(test_config_lod[pos]['scheme_id_on'])),\n",
    "        (df_temp['scheme_id'].isin(test_config_lod[pos]['scheme_id_off']))\n",
    "    ]\n",
    "\n",
    "    # Add a supplementary column to indicate if the order belonged to an 'On' or 'Off' day\n",
    "    df_temp['on_or_off_day'] = np.select(on_off_conditions, ['On', 'Off'])\n",
    "\n",
    "    return df_temp"
   ]
  },
  {
   "cell_type": "markdown",
   "metadata": {},
   "source": [
    "#### Step 8.2: Create a mapping data frame that has the 'On'/'Off' flag for a user-specified time interval"
   ]
  },
  {
   "cell_type": "code",
   "execution_count": 11,
   "metadata": {},
   "outputs": [],
   "source": [
    "def hr_interval_func_random(sb_interval):\n",
    "    bins = int(24 / sb_interval) # The number of bins by which we will divide the range from 0 to 24. A 2-hour switchback interval will have 12 bin --> [0, 2), [2, 4), [4, 6), ... [22, 24)\n",
    "    if sb_interval >= 1:\n",
    "        end_of_range = 25\n",
    "    elif sb_interval == 0.5:\n",
    "        end_of_range = 24.5\n",
    "    elif sb_interval == 0.25:\n",
    "        end_of_range = 24.25\n",
    "    df_mapping = pd.DataFrame(data = {\n",
    "            'hr_interval': list(pd.cut(np.arange(0, end_of_range, sb_interval), bins = bins, right = False)) # The bins should be closed from the left\n",
    "        }\n",
    "    )\n",
    "\n",
    "    # Drop duplicates\n",
    "    df_mapping.drop_duplicates(inplace = True)\n",
    "\n",
    "    unique_intervals = df_mapping['hr_interval'].unique()\n",
    "    on_off_list = ['On', 'Off'] * ceil(len(unique_intervals) / 2) # Create the full list that the rng.choice would choose from\n",
    "\n",
    "    rng = np.random.default_rng()\n",
    "    df_mapping['treatment_status_by_time'] = rng.choice(on_off_list, replace = False, axis = 0, size = len(df_mapping))\n",
    "    return df_mapping"
   ]
  },
  {
   "cell_type": "code",
   "execution_count": 12,
   "metadata": {},
   "outputs": [],
   "source": [
    "def hr_interval_date_func_random(test_start, test_length, sb_interval):\n",
    "    m = []\n",
    "    date_iter = test_start # Start date of the test in datetime format\n",
    "    for i in range(0, test_length): # The length of a test in days\n",
    "        y = hr_interval_func_random(sb_interval) # The switchback window size\n",
    "        y['sim_run'] = i + 1\n",
    "        y['order_created_date_local'] = date_iter\n",
    "        date_iter = date_iter + timedelta(days = 1)\n",
    "        m.append(y)\n",
    "\n",
    "    m = pd.concat(m)\n",
    "    m.reset_index(inplace = True, drop = True)\n",
    "    return m"
   ]
  },
  {
   "cell_type": "code",
   "execution_count": 29,
   "metadata": {},
   "outputs": [],
   "source": [
    "def day_interval_date_func_random(test_start, test_length): # np.arange has hard-coded 25 and 24 because this function is intended for randomizing the daily assignment of treatment\n",
    "    rng = np.random.default_rng()\n",
    "    on_off_list = ['On', 'Off'] * ceil(test_length / 2) # Create the full list that the rng.choice would choose from\n",
    "    df_mapping = pd.DataFrame(\n",
    "        data = {\n",
    "            'hr_interval': list(pd.cut(np.arange(0, 25, 24), bins = 1, right = False))[0], # The bins should be closed from the left\n",
    "            'sim_run': np.arange(1, test_length + 1, 1),\n",
    "            'order_created_date_local': pd.date_range(start = test_start, periods = 28).date.tolist(),\n",
    "        }\n",
    "    )\n",
    "    df_mapping['treatment_status_by_time'] = rng.choice(on_off_list, replace = False, axis = 0, size = test_length)\n",
    "    return df_mapping"
   ]
  },
  {
   "cell_type": "code",
   "execution_count": 14,
   "metadata": {},
   "outputs": [],
   "source": [
    "def hr_interval_func_deterministic(sb_interval):\n",
    "    bins = int(24 / sb_interval) # The number of bins by which we will divide the range from 0 to 24. A 2-hour switchback interval will have 12 bin --> [0, 2), [2, 4), [4, 6), ... [22, 24)\n",
    "    if sb_interval >= 1:\n",
    "        end_of_range = 25\n",
    "    elif sb_interval == 0.5:\n",
    "        end_of_range = 24.5\n",
    "    elif sb_interval == 0.25:\n",
    "        end_of_range = 24.25\n",
    "    df_mapping = pd.DataFrame(data = {\n",
    "            'hr_interval': list(pd.cut(np.arange(0, end_of_range, sb_interval), bins = bins, right = False)) # The bins should be closed from the left\n",
    "        }\n",
    "    )\n",
    "\n",
    "    unique_intervals = df_mapping['hr_interval'].unique()\n",
    "    tp = list(zip(unique_intervals, ['On', 'Off'] * ceil(len(unique_intervals) / 2)))\n",
    "\n",
    "    df_mapping['treatment_status_by_time'] = df_mapping['hr_interval'].map(dict(tp))\n",
    "    return df_mapping.drop_duplicates()\n",
    "\n",
    "# Create a function that returns the right hr_interval from df_mapping for any given number\n",
    "def check_right_interval(num, col):\n",
    "    for i in col:\n",
    "        if num in i:\n",
    "            return i\n",
    "        else:\n",
    "            pass"
   ]
  },
  {
   "cell_type": "markdown",
   "metadata": {},
   "source": [
    "#### Step 8.3: Create a function that computes the per order metrics, total metrics, and p-values based on the newly defined 'On'/'Off' granularity"
   ]
  },
  {
   "cell_type": "markdown",
   "metadata": {},
   "source": [
    "#### MWU test"
   ]
  },
  {
   "cell_type": "code",
   "execution_count": 67,
   "metadata": {},
   "outputs": [],
   "source": [
    "def df_calc_func(data, test_name, test_start, test_end, sb_interval_hr, sb_groupby_col, hr_or_day):\n",
    "    \"\"\"\n",
    "    This function computes the per order metrics, total metrics, and p-values based on a newly defined 'On'/'Off' flag\n",
    "    \"\"\"\n",
    "    # Get the data frame on which you will operate\n",
    "    df_play = df_clean_func(df = data, test_name = test_name)\n",
    "    \n",
    "    # Create a new column with the located created_date of the order \n",
    "    df_play['order_created_date_local'] = df_play['order_placed_at_local'].dt.date\n",
    "\n",
    "    # Filter for the data between test_start and test_end\n",
    "    df_play = df_play[df_play['order_created_date_local'].between(test_start, test_end)]\n",
    "\n",
    "    # Create the mapping data frame that has the 'On'/'Off' flag for each time interval\n",
    "    df_mapping = hr_interval_date_func_random(test_start = test_start, test_length = (test_end - test_start).days + 1, sb_interval = sb_interval_hr) if hr_or_day == 'hr'\\\n",
    "        else day_interval_date_func_random(test_start = test_start, test_length = (test_end - test_start).days + 1)\n",
    "\n",
    "    # Get the hour from the \"order_placed_at_local\" column\n",
    "    df_play['hr_of_day'] = round(df_play['order_placed_at_local'].dt.hour + df_play['order_placed_at_local'].dt.minute / 60 + df_play['order_placed_at_local'].dt.second / 3600, 2)\n",
    "    \n",
    "    # Get the right interval using the \"check_right_interval\" function\n",
    "    df_play['hr_interval'] = df_play.apply(lambda x: check_right_interval(x['hr_of_day'], df_mapping['hr_interval'].unique()), axis = 1)\n",
    "    \n",
    "    # Map the \"hr_interval\" to the correct treatment_status\n",
    "    df_play = pd.merge(left = df_play, right = df_mapping, how = 'left', on = ['hr_interval', 'order_created_date_local'])\n",
    "\n",
    "    # If the test_name == 'PH_20220721_R_F0_O_SB_AA_Test_Calamba_No_Condition', convert the 'On' values of the Canlubang zone to 'Off' and vice-versa\n",
    "    def treatment_status_switching_func(zone_name, treatment_status_by_time):\n",
    "        if zone_name == 'Cabuyao':\n",
    "            pass\n",
    "        elif zone_name == 'Canlubang' and treatment_status_by_time == 'On':\n",
    "            treatment_status_by_time = 'Off'\n",
    "        elif zone_name == 'Canlubang' and treatment_status_by_time == 'Off':\n",
    "            treatment_status_by_time = 'On'\n",
    "        return treatment_status_by_time\n",
    "\n",
    "    if test_name == 'PH_20220721_R_F0_O_SB_AA_Test_Calamba_No_Condition':\n",
    "        df_play['treatment_status_by_time'] = df_play\\\n",
    "            .apply(lambda x: treatment_status_switching_func(x['zone_name_customer'], x['treatment_status_by_time']), axis = 1)\n",
    "\n",
    "    # Calculate the \"total\" metrics and rename the column label to \"df_per_order_metrics\"\n",
    "    df_play_tot = round(df_play.groupby(['test_name', 'on_or_off_day'])[col_list[:-3]].sum(), 2) if sb_groupby_col == 'on_or_off_day' else\\\n",
    "        round(df_play.groupby(['test_name', 'treatment_status_by_time'])[col_list[:-3]].sum(), 2)\n",
    "    df_play_tot['order_count'] = df_play.groupby(['test_name', 'on_or_off_day'])['order_id'].nunique() if sb_groupby_col == 'on_or_off_day' else\\\n",
    "        df_play.groupby(['test_name', 'treatment_status_by_time'])['order_id'].nunique()\n",
    "    df_play_tot = df_play_tot.rename_axis(['df_tot_metrics'], axis = 1)\n",
    "    \n",
    "    # Calculate the \"total\" metrics and rename the column label to \"df_per_order_metrics\"\n",
    "    df_play_per_order_cust_kpis = df_play_tot.copy()\n",
    "\n",
    "    for iter_col in df_play_per_order_cust_kpis.columns[:-1]:\n",
    "        df_play_per_order_cust_kpis[iter_col] = round(df_play_per_order_cust_kpis[iter_col] / df_play_per_order_cust_kpis['order_count'], 4)\n",
    "\n",
    "    df_play_per_order_log_kpis = round(df_play.groupby(['test_name', 'on_or_off_day'])[col_list[-3:]].mean(), 2) if sb_groupby_col == 'on_or_off_day' else\\\n",
    "        round(df_play.groupby(['test_name', 'treatment_status_by_time'])[col_list[-3:]].mean(), 2) \n",
    "    df_play_per_order = pd.concat([df_play_per_order_cust_kpis, df_play_per_order_log_kpis], axis = 1)\n",
    "    df_play_per_order = df_play_per_order.rename_axis(['df_per_order_metrics'], axis = 1)\n",
    "    \n",
    "    # Add a thousands separator to df_play_tot\n",
    "    for i in df_play_tot.columns:\n",
    "        df_play_tot[i] = df_play_tot[i].map('{:,}'.format)\n",
    "\n",
    "    # Now, we need to calculate the p-values. Create two sub-data frames for the 'On' and 'Off' days\n",
    "    df_play_on_orders = df_play[df_play['on_or_off_day'] == 'On'] if sb_groupby_col == 'on_or_off_day' else df_play[df_play['treatment_status_by_time'] == 'On']\n",
    "    df_play_off_orders = df_play[df_play['on_or_off_day'] == 'Off'] if sb_groupby_col == 'on_or_off_day' else df_play[df_play['treatment_status_by_time'] == 'Off']\n",
    "\n",
    "    df_play_final_pval = []\n",
    "    pval_dict = {} # Initialize an empty dict that will contain the p-value of each KPI\n",
    "    for i in col_list:\n",
    "        pval = round(stats.mannwhitneyu(x = df_play_on_orders[i], y = df_play_off_orders[i], alternative = 'two-sided', nan_policy = 'omit')[1], 4)\n",
    "        pval_dict[i] = pval\n",
    "\n",
    "    df_play_final_pval.append(pval_dict)\n",
    "\n",
    "    # Change the list of dicts \"df_final_pval\" to a data frame\n",
    "    df_play_final_pval = pd.DataFrame(df_play_final_pval)\\\n",
    "        .assign(test_name = test_name)\\\n",
    "        .set_index('test_name')\n",
    "    \n",
    "    return df_mapping, df_play, df_play_on_orders, df_play_off_orders, df_play_per_order, df_play_tot, df_play_final_pval"
   ]
  },
  {
   "cell_type": "markdown",
   "metadata": {},
   "source": [
    "#### Step 8.4: Execute the \"df_calc_func\" function with different sb_intervals"
   ]
  },
  {
   "cell_type": "code",
   "execution_count": 111,
   "metadata": {},
   "outputs": [],
   "source": [
    "df_mapping, df_play, df_play_on_orders, df_play_off_orders, df_play_per_order, df_play_tot, df_play_final_pval = df_calc_func(\n",
    "            data = df_raw_data, \n",
    "            test_name = 'TH_20220721_R_F0_O_Switchback_AA_Test_Trang', \n",
    "            test_start = dt.date(2022, 7, 21), \n",
    "            test_end = dt.date(2022, 8, 17),\n",
    "            sb_interval_hr = 24,\n",
    "            sb_groupby_col = 'treatment_status_by_time',\n",
    "            hr_or_day = 'day'\n",
    "        )"
   ]
  },
  {
   "cell_type": "code",
   "execution_count": 112,
   "metadata": {},
   "outputs": [
    {
     "data": {
      "text/html": [
       "<style type=\"text/css\">\n",
       "#T_85f37_row0_col0, #T_85f37_row0_col2, #T_85f37_row0_col8, #T_85f37_row0_col9, #T_85f37_row0_col10, #T_85f37_row0_col12 {\n",
       "  color: lime;\n",
       "}\n",
       "#T_85f37_row0_col1, #T_85f37_row0_col3, #T_85f37_row0_col4, #T_85f37_row0_col5, #T_85f37_row0_col6, #T_85f37_row0_col7, #T_85f37_row0_col11 {\n",
       "  color: red;\n",
       "}\n",
       "</style>\n",
       "<table id=\"T_85f37\">\n",
       "  <thead>\n",
       "    <tr>\n",
       "      <th class=\"blank level0\" >&nbsp;</th>\n",
       "      <th id=\"T_85f37_level0_col0\" class=\"col_heading level0 col0\" >actual_df_paid_by_customer</th>\n",
       "      <th id=\"T_85f37_level0_col1\" class=\"col_heading level0 col1\" >gfv_local</th>\n",
       "      <th id=\"T_85f37_level0_col2\" class=\"col_heading level0 col2\" >gmv_local</th>\n",
       "      <th id=\"T_85f37_level0_col3\" class=\"col_heading level0 col3\" >commission_local</th>\n",
       "      <th id=\"T_85f37_level0_col4\" class=\"col_heading level0 col4\" >joker_vendor_fee_local</th>\n",
       "      <th id=\"T_85f37_level0_col5\" class=\"col_heading level0 col5\" >sof_local</th>\n",
       "      <th id=\"T_85f37_level0_col6\" class=\"col_heading level0 col6\" >service_fee_local</th>\n",
       "      <th id=\"T_85f37_level0_col7\" class=\"col_heading level0 col7\" >revenue_local</th>\n",
       "      <th id=\"T_85f37_level0_col8\" class=\"col_heading level0 col8\" >delivery_costs_local</th>\n",
       "      <th id=\"T_85f37_level0_col9\" class=\"col_heading level0 col9\" >gross_profit_local</th>\n",
       "      <th id=\"T_85f37_level0_col10\" class=\"col_heading level0 col10\" >dps_mean_delay</th>\n",
       "      <th id=\"T_85f37_level0_col11\" class=\"col_heading level0 col11\" >delivery_distance_m</th>\n",
       "      <th id=\"T_85f37_level0_col12\" class=\"col_heading level0 col12\" >actual_DT</th>\n",
       "    </tr>\n",
       "    <tr>\n",
       "      <th class=\"index_name level0\" >test_name</th>\n",
       "      <th class=\"blank col0\" >&nbsp;</th>\n",
       "      <th class=\"blank col1\" >&nbsp;</th>\n",
       "      <th class=\"blank col2\" >&nbsp;</th>\n",
       "      <th class=\"blank col3\" >&nbsp;</th>\n",
       "      <th class=\"blank col4\" >&nbsp;</th>\n",
       "      <th class=\"blank col5\" >&nbsp;</th>\n",
       "      <th class=\"blank col6\" >&nbsp;</th>\n",
       "      <th class=\"blank col7\" >&nbsp;</th>\n",
       "      <th class=\"blank col8\" >&nbsp;</th>\n",
       "      <th class=\"blank col9\" >&nbsp;</th>\n",
       "      <th class=\"blank col10\" >&nbsp;</th>\n",
       "      <th class=\"blank col11\" >&nbsp;</th>\n",
       "      <th class=\"blank col12\" >&nbsp;</th>\n",
       "    </tr>\n",
       "  </thead>\n",
       "  <tbody>\n",
       "    <tr>\n",
       "      <th id=\"T_85f37_level0_row0\" class=\"row_heading level0 row0\" >TH_20220721_R_F0_O_Switchback_AA_Test_Trang</th>\n",
       "      <td id=\"T_85f37_row0_col0\" class=\"data row0 col0\" >0.0296</td>\n",
       "      <td id=\"T_85f37_row0_col1\" class=\"data row0 col1\" >0.5601</td>\n",
       "      <td id=\"T_85f37_row0_col2\" class=\"data row0 col2\" >0.0078</td>\n",
       "      <td id=\"T_85f37_row0_col3\" class=\"data row0 col3\" >0.2405</td>\n",
       "      <td id=\"T_85f37_row0_col4\" class=\"data row0 col4\" >0.5621</td>\n",
       "      <td id=\"T_85f37_row0_col5\" class=\"data row0 col5\" >0.6935</td>\n",
       "      <td id=\"T_85f37_row0_col6\" class=\"data row0 col6\" >1.0000</td>\n",
       "      <td id=\"T_85f37_row0_col7\" class=\"data row0 col7\" >0.1061</td>\n",
       "      <td id=\"T_85f37_row0_col8\" class=\"data row0 col8\" >0.0000</td>\n",
       "      <td id=\"T_85f37_row0_col9\" class=\"data row0 col9\" >0.0000</td>\n",
       "      <td id=\"T_85f37_row0_col10\" class=\"data row0 col10\" >0.0000</td>\n",
       "      <td id=\"T_85f37_row0_col11\" class=\"data row0 col11\" >0.7809</td>\n",
       "      <td id=\"T_85f37_row0_col12\" class=\"data row0 col12\" >0.0000</td>\n",
       "    </tr>\n",
       "  </tbody>\n",
       "</table>\n"
      ],
      "text/plain": [
       "<pandas.io.formats.style.Styler at 0x21f8e636740>"
      ]
     },
     "execution_count": 112,
     "metadata": {},
     "output_type": "execute_result"
    }
   ],
   "source": [
    "df_play_final_pval.style.format(precision=4).applymap(color_sig_green)"
   ]
  },
  {
   "cell_type": "code",
   "execution_count": 114,
   "metadata": {},
   "outputs": [
    {
     "data": {
      "text/html": [
       "<style type=\"text/css\">\n",
       "#T_70e0f_row0_col0, #T_70e0f_row0_col4, #T_70e0f_row0_col5, #T_70e0f_row0_col6, #T_70e0f_row0_col8, #T_70e0f_row0_col9, #T_70e0f_row1_col0, #T_70e0f_row1_col1, #T_70e0f_row1_col2, #T_70e0f_row1_col3, #T_70e0f_row1_col4, #T_70e0f_row1_col6, #T_70e0f_row1_col7, #T_70e0f_row1_col8, #T_70e0f_row1_col9, #T_70e0f_row1_col11, #T_70e0f_row1_col12, #T_70e0f_row2_col1, #T_70e0f_row2_col2, #T_70e0f_row2_col3, #T_70e0f_row2_col4, #T_70e0f_row2_col5, #T_70e0f_row2_col6, #T_70e0f_row2_col11, #T_70e0f_row3_col0, #T_70e0f_row3_col1, #T_70e0f_row3_col2, #T_70e0f_row3_col3, #T_70e0f_row3_col4, #T_70e0f_row3_col5, #T_70e0f_row3_col6, #T_70e0f_row3_col7, #T_70e0f_row3_col8, #T_70e0f_row3_col9, #T_70e0f_row3_col11, #T_70e0f_row3_col12, #T_70e0f_row4_col4, #T_70e0f_row4_col5, #T_70e0f_row4_col6 {\n",
       "  color: red;\n",
       "}\n",
       "#T_70e0f_row0_col1, #T_70e0f_row0_col2, #T_70e0f_row0_col3, #T_70e0f_row0_col7, #T_70e0f_row0_col10, #T_70e0f_row0_col11, #T_70e0f_row0_col12, #T_70e0f_row1_col5, #T_70e0f_row1_col10, #T_70e0f_row2_col0, #T_70e0f_row2_col7, #T_70e0f_row2_col8, #T_70e0f_row2_col9, #T_70e0f_row2_col10, #T_70e0f_row2_col12, #T_70e0f_row3_col10, #T_70e0f_row4_col0, #T_70e0f_row4_col1, #T_70e0f_row4_col2, #T_70e0f_row4_col3, #T_70e0f_row4_col7, #T_70e0f_row4_col8, #T_70e0f_row4_col9, #T_70e0f_row4_col10, #T_70e0f_row4_col11, #T_70e0f_row4_col12 {\n",
       "  color: lime;\n",
       "}\n",
       "</style>\n",
       "<table id=\"T_70e0f\">\n",
       "  <thead>\n",
       "    <tr>\n",
       "      <th class=\"blank\" >&nbsp;</th>\n",
       "      <th class=\"blank level0\" >&nbsp;</th>\n",
       "      <th id=\"T_70e0f_level0_col0\" class=\"col_heading level0 col0\" >actual_df_paid_by_customer</th>\n",
       "      <th id=\"T_70e0f_level0_col1\" class=\"col_heading level0 col1\" >gfv_local</th>\n",
       "      <th id=\"T_70e0f_level0_col2\" class=\"col_heading level0 col2\" >gmv_local</th>\n",
       "      <th id=\"T_70e0f_level0_col3\" class=\"col_heading level0 col3\" >commission_local</th>\n",
       "      <th id=\"T_70e0f_level0_col4\" class=\"col_heading level0 col4\" >joker_vendor_fee_local</th>\n",
       "      <th id=\"T_70e0f_level0_col5\" class=\"col_heading level0 col5\" >sof_local</th>\n",
       "      <th id=\"T_70e0f_level0_col6\" class=\"col_heading level0 col6\" >service_fee_local</th>\n",
       "      <th id=\"T_70e0f_level0_col7\" class=\"col_heading level0 col7\" >revenue_local</th>\n",
       "      <th id=\"T_70e0f_level0_col8\" class=\"col_heading level0 col8\" >delivery_costs_local</th>\n",
       "      <th id=\"T_70e0f_level0_col9\" class=\"col_heading level0 col9\" >gross_profit_local</th>\n",
       "      <th id=\"T_70e0f_level0_col10\" class=\"col_heading level0 col10\" >dps_mean_delay</th>\n",
       "      <th id=\"T_70e0f_level0_col11\" class=\"col_heading level0 col11\" >delivery_distance_m</th>\n",
       "      <th id=\"T_70e0f_level0_col12\" class=\"col_heading level0 col12\" >actual_DT</th>\n",
       "    </tr>\n",
       "    <tr>\n",
       "      <th class=\"index_name level0\" >test_name</th>\n",
       "      <th class=\"index_name level1\" >sim_run</th>\n",
       "      <th class=\"blank col0\" >&nbsp;</th>\n",
       "      <th class=\"blank col1\" >&nbsp;</th>\n",
       "      <th class=\"blank col2\" >&nbsp;</th>\n",
       "      <th class=\"blank col3\" >&nbsp;</th>\n",
       "      <th class=\"blank col4\" >&nbsp;</th>\n",
       "      <th class=\"blank col5\" >&nbsp;</th>\n",
       "      <th class=\"blank col6\" >&nbsp;</th>\n",
       "      <th class=\"blank col7\" >&nbsp;</th>\n",
       "      <th class=\"blank col8\" >&nbsp;</th>\n",
       "      <th class=\"blank col9\" >&nbsp;</th>\n",
       "      <th class=\"blank col10\" >&nbsp;</th>\n",
       "      <th class=\"blank col11\" >&nbsp;</th>\n",
       "      <th class=\"blank col12\" >&nbsp;</th>\n",
       "    </tr>\n",
       "  </thead>\n",
       "  <tbody>\n",
       "    <tr>\n",
       "      <th id=\"T_70e0f_level0_row0\" class=\"row_heading level0 row0\" >TH_20220721_R_F0_O_Switchback_AA_Test_Trang</th>\n",
       "      <th id=\"T_70e0f_level1_row0\" class=\"row_heading level1 row0\" >1</th>\n",
       "      <td id=\"T_70e0f_row0_col0\" class=\"data row0 col0\" >0.6934</td>\n",
       "      <td id=\"T_70e0f_row0_col1\" class=\"data row0 col1\" >0.0047</td>\n",
       "      <td id=\"T_70e0f_row0_col2\" class=\"data row0 col2\" >0.0401</td>\n",
       "      <td id=\"T_70e0f_row0_col3\" class=\"data row0 col3\" >0.0271</td>\n",
       "      <td id=\"T_70e0f_row0_col4\" class=\"data row0 col4\" >0.6842</td>\n",
       "      <td id=\"T_70e0f_row0_col5\" class=\"data row0 col5\" >0.8476</td>\n",
       "      <td id=\"T_70e0f_row0_col6\" class=\"data row0 col6\" >1.0000</td>\n",
       "      <td id=\"T_70e0f_row0_col7\" class=\"data row0 col7\" >0.0173</td>\n",
       "      <td id=\"T_70e0f_row0_col8\" class=\"data row0 col8\" >0.3223</td>\n",
       "      <td id=\"T_70e0f_row0_col9\" class=\"data row0 col9\" >0.3003</td>\n",
       "      <td id=\"T_70e0f_row0_col10\" class=\"data row0 col10\" >0.0000</td>\n",
       "      <td id=\"T_70e0f_row0_col11\" class=\"data row0 col11\" >0.0000</td>\n",
       "      <td id=\"T_70e0f_row0_col12\" class=\"data row0 col12\" >0.0000</td>\n",
       "    </tr>\n",
       "    <tr>\n",
       "      <th id=\"T_70e0f_level0_row1\" class=\"row_heading level0 row1\" >PH_20220721_R_F0_O_SB_AA_Test_Calamba_No_Condition</th>\n",
       "      <th id=\"T_70e0f_level1_row1\" class=\"row_heading level1 row1\" >1</th>\n",
       "      <td id=\"T_70e0f_row1_col0\" class=\"data row1 col0\" >0.2743</td>\n",
       "      <td id=\"T_70e0f_row1_col1\" class=\"data row1 col1\" >0.8489</td>\n",
       "      <td id=\"T_70e0f_row1_col2\" class=\"data row1 col2\" >0.5966</td>\n",
       "      <td id=\"T_70e0f_row1_col3\" class=\"data row1 col3\" >0.7480</td>\n",
       "      <td id=\"T_70e0f_row1_col4\" class=\"data row1 col4\" >0.9658</td>\n",
       "      <td id=\"T_70e0f_row1_col5\" class=\"data row1 col5\" >0.0329</td>\n",
       "      <td id=\"T_70e0f_row1_col6\" class=\"data row1 col6\" >1.0000</td>\n",
       "      <td id=\"T_70e0f_row1_col7\" class=\"data row1 col7\" >0.3675</td>\n",
       "      <td id=\"T_70e0f_row1_col8\" class=\"data row1 col8\" >0.9183</td>\n",
       "      <td id=\"T_70e0f_row1_col9\" class=\"data row1 col9\" >0.5944</td>\n",
       "      <td id=\"T_70e0f_row1_col10\" class=\"data row1 col10\" >0.0000</td>\n",
       "      <td id=\"T_70e0f_row1_col11\" class=\"data row1 col11\" >0.8792</td>\n",
       "      <td id=\"T_70e0f_row1_col12\" class=\"data row1 col12\" >0.2187</td>\n",
       "    </tr>\n",
       "    <tr>\n",
       "      <th id=\"T_70e0f_level0_row2\" class=\"row_heading level0 row2\" >TH_20220721_R_F0_O_Switchback_AA_Test_Trang</th>\n",
       "      <th id=\"T_70e0f_level1_row2\" class=\"row_heading level1 row2\" >2</th>\n",
       "      <td id=\"T_70e0f_row2_col0\" class=\"data row2 col0\" >0.0001</td>\n",
       "      <td id=\"T_70e0f_row2_col1\" class=\"data row2 col1\" >0.2228</td>\n",
       "      <td id=\"T_70e0f_row2_col2\" class=\"data row2 col2\" >0.6883</td>\n",
       "      <td id=\"T_70e0f_row2_col3\" class=\"data row2 col3\" >0.3770</td>\n",
       "      <td id=\"T_70e0f_row2_col4\" class=\"data row2 col4\" >0.1863</td>\n",
       "      <td id=\"T_70e0f_row2_col5\" class=\"data row2 col5\" >0.6667</td>\n",
       "      <td id=\"T_70e0f_row2_col6\" class=\"data row2 col6\" >1.0000</td>\n",
       "      <td id=\"T_70e0f_row2_col7\" class=\"data row2 col7\" >0.0076</td>\n",
       "      <td id=\"T_70e0f_row2_col8\" class=\"data row2 col8\" >0.0000</td>\n",
       "      <td id=\"T_70e0f_row2_col9\" class=\"data row2 col9\" >0.0000</td>\n",
       "      <td id=\"T_70e0f_row2_col10\" class=\"data row2 col10\" >0.0000</td>\n",
       "      <td id=\"T_70e0f_row2_col11\" class=\"data row2 col11\" >0.6472</td>\n",
       "      <td id=\"T_70e0f_row2_col12\" class=\"data row2 col12\" >0.0000</td>\n",
       "    </tr>\n",
       "    <tr>\n",
       "      <th id=\"T_70e0f_level0_row3\" class=\"row_heading level0 row3\" >PH_20220721_R_F0_O_SB_AA_Test_Calamba_No_Condition</th>\n",
       "      <th id=\"T_70e0f_level1_row3\" class=\"row_heading level1 row3\" >2</th>\n",
       "      <td id=\"T_70e0f_row3_col0\" class=\"data row3 col0\" >0.6495</td>\n",
       "      <td id=\"T_70e0f_row3_col1\" class=\"data row3 col1\" >0.4509</td>\n",
       "      <td id=\"T_70e0f_row3_col2\" class=\"data row3 col2\" >0.2592</td>\n",
       "      <td id=\"T_70e0f_row3_col3\" class=\"data row3 col3\" >0.3976</td>\n",
       "      <td id=\"T_70e0f_row3_col4\" class=\"data row3 col4\" >0.7036</td>\n",
       "      <td id=\"T_70e0f_row3_col5\" class=\"data row3 col5\" >0.7188</td>\n",
       "      <td id=\"T_70e0f_row3_col6\" class=\"data row3 col6\" >1.0000</td>\n",
       "      <td id=\"T_70e0f_row3_col7\" class=\"data row3 col7\" >0.4314</td>\n",
       "      <td id=\"T_70e0f_row3_col8\" class=\"data row3 col8\" >0.1341</td>\n",
       "      <td id=\"T_70e0f_row3_col9\" class=\"data row3 col9\" >0.1965</td>\n",
       "      <td id=\"T_70e0f_row3_col10\" class=\"data row3 col10\" >0.0418</td>\n",
       "      <td id=\"T_70e0f_row3_col11\" class=\"data row3 col11\" >0.9751</td>\n",
       "      <td id=\"T_70e0f_row3_col12\" class=\"data row3 col12\" >0.2365</td>\n",
       "    </tr>\n",
       "    <tr>\n",
       "      <th id=\"T_70e0f_level0_row4\" class=\"row_heading level0 row4\" >TH_20220721_R_F0_O_Switchback_AA_Test_Trang</th>\n",
       "      <th id=\"T_70e0f_level1_row4\" class=\"row_heading level1 row4\" >3</th>\n",
       "      <td id=\"T_70e0f_row4_col0\" class=\"data row4 col0\" >0.0014</td>\n",
       "      <td id=\"T_70e0f_row4_col1\" class=\"data row4 col1\" >0.0016</td>\n",
       "      <td id=\"T_70e0f_row4_col2\" class=\"data row4 col2\" >0.0115</td>\n",
       "      <td id=\"T_70e0f_row4_col3\" class=\"data row4 col3\" >0.0070</td>\n",
       "      <td id=\"T_70e0f_row4_col4\" class=\"data row4 col4\" >0.4185</td>\n",
       "      <td id=\"T_70e0f_row4_col5\" class=\"data row4 col5\" >0.2747</td>\n",
       "      <td id=\"T_70e0f_row4_col6\" class=\"data row4 col6\" >1.0000</td>\n",
       "      <td id=\"T_70e0f_row4_col7\" class=\"data row4 col7\" >0.0002</td>\n",
       "      <td id=\"T_70e0f_row4_col8\" class=\"data row4 col8\" >0.0000</td>\n",
       "      <td id=\"T_70e0f_row4_col9\" class=\"data row4 col9\" >0.0000</td>\n",
       "      <td id=\"T_70e0f_row4_col10\" class=\"data row4 col10\" >0.0000</td>\n",
       "      <td id=\"T_70e0f_row4_col11\" class=\"data row4 col11\" >0.0168</td>\n",
       "      <td id=\"T_70e0f_row4_col12\" class=\"data row4 col12\" >0.0000</td>\n",
       "    </tr>\n",
       "  </tbody>\n",
       "</table>\n"
      ],
      "text/plain": [
       "<pandas.io.formats.style.Styler at 0x21f8da2fca0>"
      ]
     },
     "execution_count": 114,
     "metadata": {},
     "output_type": "execute_result"
    }
   ],
   "source": [
    "num_sims = 30\n",
    "\n",
    "df_pval_mwu_test_sims = []\n",
    "for i in range(0, num_sims): # 30 simulations\n",
    "    df_pval_mwu_test_iter = []\n",
    "\n",
    "    for test in params:\n",
    "        df_mapping, df_play, df_play_on_orders, df_play_off_orders, df_play_per_order, df_play_tot, df_play_final_pval = df_calc_func(\n",
    "            data = df_raw_data, \n",
    "            test_name = test['exp_name'], \n",
    "            test_start = test['exp_start'], \n",
    "            test_end = test['exp_end'],\n",
    "            sb_interval_hr = 24,\n",
    "            sb_groupby_col = 'treatment_status_by_time', \n",
    "            hr_or_day = 'day'\n",
    "        )\n",
    "        df_pval_mwu_test_iter.append(df_play_final_pval)\n",
    "    df_pval_mwu_test_iter = pd.concat(df_pval_mwu_test_iter)\n",
    "    df_pval_mwu_test_iter['sim_run'] = i + 1\n",
    "    df_pval_mwu_test_iter.set_index('sim_run', append = True, inplace = True)\n",
    "\n",
    "    df_pval_mwu_test_sims.append(df_pval_mwu_test_iter)\n",
    "\n",
    "df_pval_mwu_test_sims = pd.concat(df_pval_mwu_test_sims)\n",
    "df_pval_mwu_test_sims.head(5).style.format(precision = 4).applymap(color_sig_green)\n",
    "        "
   ]
  },
  {
   "cell_type": "code",
   "execution_count": 115,
   "metadata": {},
   "outputs": [
    {
     "data": {
      "text/html": [
       "<style type=\"text/css\">\n",
       "#T_d8448_row0_col0, #T_d8448_row0_col1, #T_d8448_row0_col2, #T_d8448_row0_col3, #T_d8448_row0_col4, #T_d8448_row0_col5, #T_d8448_row0_col6, #T_d8448_row0_col7, #T_d8448_row0_col8, #T_d8448_row0_col9, #T_d8448_row0_col11, #T_d8448_row0_col12, #T_d8448_row1_col0, #T_d8448_row1_col1, #T_d8448_row1_col2, #T_d8448_row1_col3, #T_d8448_row1_col4, #T_d8448_row1_col5, #T_d8448_row1_col6, #T_d8448_row1_col7, #T_d8448_row1_col8, #T_d8448_row1_col9, #T_d8448_row1_col11 {\n",
       "  color: red;\n",
       "}\n",
       "#T_d8448_row0_col10, #T_d8448_row1_col10, #T_d8448_row1_col12 {\n",
       "  color: lime;\n",
       "}\n",
       "</style>\n",
       "<table id=\"T_d8448\">\n",
       "  <thead>\n",
       "    <tr>\n",
       "      <th class=\"blank level0\" >&nbsp;</th>\n",
       "      <th id=\"T_d8448_level0_col0\" class=\"col_heading level0 col0\" >actual_df_paid_by_customer</th>\n",
       "      <th id=\"T_d8448_level0_col1\" class=\"col_heading level0 col1\" >gfv_local</th>\n",
       "      <th id=\"T_d8448_level0_col2\" class=\"col_heading level0 col2\" >gmv_local</th>\n",
       "      <th id=\"T_d8448_level0_col3\" class=\"col_heading level0 col3\" >commission_local</th>\n",
       "      <th id=\"T_d8448_level0_col4\" class=\"col_heading level0 col4\" >joker_vendor_fee_local</th>\n",
       "      <th id=\"T_d8448_level0_col5\" class=\"col_heading level0 col5\" >sof_local</th>\n",
       "      <th id=\"T_d8448_level0_col6\" class=\"col_heading level0 col6\" >service_fee_local</th>\n",
       "      <th id=\"T_d8448_level0_col7\" class=\"col_heading level0 col7\" >revenue_local</th>\n",
       "      <th id=\"T_d8448_level0_col8\" class=\"col_heading level0 col8\" >delivery_costs_local</th>\n",
       "      <th id=\"T_d8448_level0_col9\" class=\"col_heading level0 col9\" >gross_profit_local</th>\n",
       "      <th id=\"T_d8448_level0_col10\" class=\"col_heading level0 col10\" >dps_mean_delay</th>\n",
       "      <th id=\"T_d8448_level0_col11\" class=\"col_heading level0 col11\" >delivery_distance_m</th>\n",
       "      <th id=\"T_d8448_level0_col12\" class=\"col_heading level0 col12\" >actual_DT</th>\n",
       "    </tr>\n",
       "    <tr>\n",
       "      <th class=\"index_name level0\" >test_name</th>\n",
       "      <th class=\"blank col0\" >&nbsp;</th>\n",
       "      <th class=\"blank col1\" >&nbsp;</th>\n",
       "      <th class=\"blank col2\" >&nbsp;</th>\n",
       "      <th class=\"blank col3\" >&nbsp;</th>\n",
       "      <th class=\"blank col4\" >&nbsp;</th>\n",
       "      <th class=\"blank col5\" >&nbsp;</th>\n",
       "      <th class=\"blank col6\" >&nbsp;</th>\n",
       "      <th class=\"blank col7\" >&nbsp;</th>\n",
       "      <th class=\"blank col8\" >&nbsp;</th>\n",
       "      <th class=\"blank col9\" >&nbsp;</th>\n",
       "      <th class=\"blank col10\" >&nbsp;</th>\n",
       "      <th class=\"blank col11\" >&nbsp;</th>\n",
       "      <th class=\"blank col12\" >&nbsp;</th>\n",
       "    </tr>\n",
       "  </thead>\n",
       "  <tbody>\n",
       "    <tr>\n",
       "      <th id=\"T_d8448_level0_row0\" class=\"row_heading level0 row0\" >PH_20220721_R_F0_O_SB_AA_Test_Calamba_No_Condition</th>\n",
       "      <td id=\"T_d8448_row0_col0\" class=\"data row0 col0\" >0.3201</td>\n",
       "      <td id=\"T_d8448_row0_col1\" class=\"data row0 col1\" >0.4449</td>\n",
       "      <td id=\"T_d8448_row0_col2\" class=\"data row0 col2\" >0.4455</td>\n",
       "      <td id=\"T_d8448_row0_col3\" class=\"data row0 col3\" >0.4871</td>\n",
       "      <td id=\"T_d8448_row0_col4\" class=\"data row0 col4\" >0.5159</td>\n",
       "      <td id=\"T_d8448_row0_col5\" class=\"data row0 col5\" >0.4235</td>\n",
       "      <td id=\"T_d8448_row0_col6\" class=\"data row0 col6\" >1.0000</td>\n",
       "      <td id=\"T_d8448_row0_col7\" class=\"data row0 col7\" >0.4272</td>\n",
       "      <td id=\"T_d8448_row0_col8\" class=\"data row0 col8\" >0.1857</td>\n",
       "      <td id=\"T_d8448_row0_col9\" class=\"data row0 col9\" >0.2669</td>\n",
       "      <td id=\"T_d8448_row0_col10\" class=\"data row0 col10\" >0.0241</td>\n",
       "      <td id=\"T_d8448_row0_col11\" class=\"data row0 col11\" >0.5358</td>\n",
       "      <td id=\"T_d8448_row0_col12\" class=\"data row0 col12\" >0.3062</td>\n",
       "    </tr>\n",
       "    <tr>\n",
       "      <th id=\"T_d8448_level0_row1\" class=\"row_heading level0 row1\" >TH_20220721_R_F0_O_Switchback_AA_Test_Trang</th>\n",
       "      <td id=\"T_d8448_row1_col0\" class=\"data row1 col0\" >0.2149</td>\n",
       "      <td id=\"T_d8448_row1_col1\" class=\"data row1 col1\" >0.2177</td>\n",
       "      <td id=\"T_d8448_row1_col2\" class=\"data row1 col2\" >0.2118</td>\n",
       "      <td id=\"T_d8448_row1_col3\" class=\"data row1 col3\" >0.2086</td>\n",
       "      <td id=\"T_d8448_row1_col4\" class=\"data row1 col4\" >0.4789</td>\n",
       "      <td id=\"T_d8448_row1_col5\" class=\"data row1 col5\" >0.5462</td>\n",
       "      <td id=\"T_d8448_row1_col6\" class=\"data row1 col6\" >1.0000</td>\n",
       "      <td id=\"T_d8448_row1_col7\" class=\"data row1 col7\" >0.1817</td>\n",
       "      <td id=\"T_d8448_row1_col8\" class=\"data row1 col8\" >0.0550</td>\n",
       "      <td id=\"T_d8448_row1_col9\" class=\"data row1 col9\" >0.0553</td>\n",
       "      <td id=\"T_d8448_row1_col10\" class=\"data row1 col10\" >0.0033</td>\n",
       "      <td id=\"T_d8448_row1_col11\" class=\"data row1 col11\" >0.1398</td>\n",
       "      <td id=\"T_d8448_row1_col12\" class=\"data row1 col12\" >0.0387</td>\n",
       "    </tr>\n",
       "  </tbody>\n",
       "</table>\n"
      ],
      "text/plain": [
       "<pandas.io.formats.style.Styler at 0x21fcfd899c0>"
      ]
     },
     "execution_count": 115,
     "metadata": {},
     "output_type": "execute_result"
    }
   ],
   "source": [
    "# Calculate the average p-values from the simulations\n",
    "df_pval_mwu_test_sims.groupby('test_name').mean().style.format(precision = 4).applymap(color_sig_green)"
   ]
  },
  {
   "cell_type": "code",
   "execution_count": 123,
   "metadata": {},
   "outputs": [
    {
     "data": {
      "text/html": [
       "<div>\n",
       "<style scoped>\n",
       "    .dataframe tbody tr th:only-of-type {\n",
       "        vertical-align: middle;\n",
       "    }\n",
       "\n",
       "    .dataframe tbody tr th {\n",
       "        vertical-align: top;\n",
       "    }\n",
       "\n",
       "    .dataframe thead th {\n",
       "        text-align: right;\n",
       "    }\n",
       "</style>\n",
       "<table border=\"1\" class=\"dataframe\">\n",
       "  <thead>\n",
       "    <tr style=\"text-align: right;\">\n",
       "      <th></th>\n",
       "      <th>num_sims_sig_TH</th>\n",
       "      <th>pct_times_sig</th>\n",
       "    </tr>\n",
       "  </thead>\n",
       "  <tbody>\n",
       "    <tr>\n",
       "      <th>actual_df_paid_by_customer</th>\n",
       "      <td>17</td>\n",
       "      <td>56.67%</td>\n",
       "    </tr>\n",
       "    <tr>\n",
       "      <th>gfv_local</th>\n",
       "      <td>15</td>\n",
       "      <td>50.0%</td>\n",
       "    </tr>\n",
       "    <tr>\n",
       "      <th>gmv_local</th>\n",
       "      <td>14</td>\n",
       "      <td>46.67%</td>\n",
       "    </tr>\n",
       "    <tr>\n",
       "      <th>commission_local</th>\n",
       "      <td>16</td>\n",
       "      <td>53.33%</td>\n",
       "    </tr>\n",
       "    <tr>\n",
       "      <th>joker_vendor_fee_local</th>\n",
       "      <td>2</td>\n",
       "      <td>6.67%</td>\n",
       "    </tr>\n",
       "    <tr>\n",
       "      <th>sof_local</th>\n",
       "      <td>2</td>\n",
       "      <td>6.67%</td>\n",
       "    </tr>\n",
       "    <tr>\n",
       "      <th>service_fee_local</th>\n",
       "      <td>0</td>\n",
       "      <td>0.0%</td>\n",
       "    </tr>\n",
       "    <tr>\n",
       "      <th>revenue_local</th>\n",
       "      <td>17</td>\n",
       "      <td>56.67%</td>\n",
       "    </tr>\n",
       "    <tr>\n",
       "      <th>delivery_costs_local</th>\n",
       "      <td>25</td>\n",
       "      <td>83.33%</td>\n",
       "    </tr>\n",
       "    <tr>\n",
       "      <th>gross_profit_local</th>\n",
       "      <td>25</td>\n",
       "      <td>83.33%</td>\n",
       "    </tr>\n",
       "    <tr>\n",
       "      <th>dps_mean_delay</th>\n",
       "      <td>29</td>\n",
       "      <td>96.67%</td>\n",
       "    </tr>\n",
       "    <tr>\n",
       "      <th>delivery_distance_m</th>\n",
       "      <td>19</td>\n",
       "      <td>63.33%</td>\n",
       "    </tr>\n",
       "    <tr>\n",
       "      <th>actual_DT</th>\n",
       "      <td>28</td>\n",
       "      <td>93.33%</td>\n",
       "    </tr>\n",
       "  </tbody>\n",
       "</table>\n",
       "</div>"
      ],
      "text/plain": [
       "                            num_sims_sig_TH pct_times_sig\n",
       "actual_df_paid_by_customer               17        56.67%\n",
       "gfv_local                                15         50.0%\n",
       "gmv_local                                14        46.67%\n",
       "commission_local                         16        53.33%\n",
       "joker_vendor_fee_local                    2         6.67%\n",
       "sof_local                                 2         6.67%\n",
       "service_fee_local                         0          0.0%\n",
       "revenue_local                            17        56.67%\n",
       "delivery_costs_local                     25        83.33%\n",
       "gross_profit_local                       25        83.33%\n",
       "dps_mean_delay                           29        96.67%\n",
       "delivery_distance_m                      19        63.33%\n",
       "actual_DT                                28        93.33%"
      ]
     },
     "metadata": {},
     "output_type": "display_data"
    },
    {
     "data": {
      "text/html": [
       "<div>\n",
       "<style scoped>\n",
       "    .dataframe tbody tr th:only-of-type {\n",
       "        vertical-align: middle;\n",
       "    }\n",
       "\n",
       "    .dataframe tbody tr th {\n",
       "        vertical-align: top;\n",
       "    }\n",
       "\n",
       "    .dataframe thead th {\n",
       "        text-align: right;\n",
       "    }\n",
       "</style>\n",
       "<table border=\"1\" class=\"dataframe\">\n",
       "  <thead>\n",
       "    <tr style=\"text-align: right;\">\n",
       "      <th></th>\n",
       "      <th>num_sims_sig_PH</th>\n",
       "      <th>pct_times_sig</th>\n",
       "    </tr>\n",
       "  </thead>\n",
       "  <tbody>\n",
       "    <tr>\n",
       "      <th>actual_df_paid_by_customer</th>\n",
       "      <td>12</td>\n",
       "      <td>40.0%</td>\n",
       "    </tr>\n",
       "    <tr>\n",
       "      <th>gfv_local</th>\n",
       "      <td>3</td>\n",
       "      <td>10.0%</td>\n",
       "    </tr>\n",
       "    <tr>\n",
       "      <th>gmv_local</th>\n",
       "      <td>3</td>\n",
       "      <td>10.0%</td>\n",
       "    </tr>\n",
       "    <tr>\n",
       "      <th>commission_local</th>\n",
       "      <td>3</td>\n",
       "      <td>10.0%</td>\n",
       "    </tr>\n",
       "    <tr>\n",
       "      <th>joker_vendor_fee_local</th>\n",
       "      <td>0</td>\n",
       "      <td>0.0%</td>\n",
       "    </tr>\n",
       "    <tr>\n",
       "      <th>sof_local</th>\n",
       "      <td>1</td>\n",
       "      <td>3.33%</td>\n",
       "    </tr>\n",
       "    <tr>\n",
       "      <th>service_fee_local</th>\n",
       "      <td>0</td>\n",
       "      <td>0.0%</td>\n",
       "    </tr>\n",
       "    <tr>\n",
       "      <th>revenue_local</th>\n",
       "      <td>2</td>\n",
       "      <td>6.67%</td>\n",
       "    </tr>\n",
       "    <tr>\n",
       "      <th>delivery_costs_local</th>\n",
       "      <td>15</td>\n",
       "      <td>50.0%</td>\n",
       "    </tr>\n",
       "    <tr>\n",
       "      <th>gross_profit_local</th>\n",
       "      <td>12</td>\n",
       "      <td>40.0%</td>\n",
       "    </tr>\n",
       "    <tr>\n",
       "      <th>dps_mean_delay</th>\n",
       "      <td>28</td>\n",
       "      <td>93.33%</td>\n",
       "    </tr>\n",
       "    <tr>\n",
       "      <th>delivery_distance_m</th>\n",
       "      <td>0</td>\n",
       "      <td>0.0%</td>\n",
       "    </tr>\n",
       "    <tr>\n",
       "      <th>actual_DT</th>\n",
       "      <td>13</td>\n",
       "      <td>43.33%</td>\n",
       "    </tr>\n",
       "  </tbody>\n",
       "</table>\n",
       "</div>"
      ],
      "text/plain": [
       "                            num_sims_sig_PH pct_times_sig\n",
       "actual_df_paid_by_customer               12         40.0%\n",
       "gfv_local                                 3         10.0%\n",
       "gmv_local                                 3         10.0%\n",
       "commission_local                          3         10.0%\n",
       "joker_vendor_fee_local                    0          0.0%\n",
       "sof_local                                 1         3.33%\n",
       "service_fee_local                         0          0.0%\n",
       "revenue_local                             2         6.67%\n",
       "delivery_costs_local                     15         50.0%\n",
       "gross_profit_local                       12         40.0%\n",
       "dps_mean_delay                           28        93.33%\n",
       "delivery_distance_m                       0          0.0%\n",
       "actual_DT                                13        43.33%"
      ]
     },
     "metadata": {},
     "output_type": "display_data"
    }
   ],
   "source": [
    "def num_sims_sig_func(test_name, df):\n",
    "    df_temp = df[(df.index.get_level_values('test_name') == test_name)].apply(lambda x: x[x <= 0.05].count()).to_frame(name = 'num_sims_sig_' + test_name[0:2])\n",
    "    df_temp['pct_times_sig'] = round((df_temp.iloc[:, 0] / num_sims) * 100, 2).astype(str) + '%'\n",
    "    \n",
    "    return df_temp\n",
    "\n",
    "display(num_sims_sig_func(test_name='TH_20220721_R_F0_O_Switchback_AA_Test_Trang', df=df_pval_mwu_test_sims))\n",
    "display(num_sims_sig_func(test_name='PH_20220721_R_F0_O_SB_AA_Test_Calamba_No_Condition', df=df_pval_mwu_test_sims))"
   ]
  }
 ],
 "metadata": {
  "kernelspec": {
   "display_name": "Python 3.10.7 ('venv_sb': venv)",
   "language": "python",
   "name": "python3"
  },
  "language_info": {
   "codemirror_mode": {
    "name": "ipython",
    "version": 3
   },
   "file_extension": ".py",
   "mimetype": "text/x-python",
   "name": "python",
   "nbconvert_exporter": "python",
   "pygments_lexer": "ipython3",
   "version": "3.10.7"
  },
  "orig_nbformat": 4,
  "vscode": {
   "interpreter": {
    "hash": "14e010e4cd1c1ecfc2a757c09121a44deab645fe879881bec23ed2eed3f5394d"
   }
  }
 },
 "nbformat": 4,
 "nbformat_minor": 2
}
